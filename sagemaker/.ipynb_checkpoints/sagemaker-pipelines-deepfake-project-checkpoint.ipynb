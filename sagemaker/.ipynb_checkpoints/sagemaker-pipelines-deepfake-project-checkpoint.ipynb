{
 "cells": [
  {
   "cell_type": "code",
   "execution_count": 16,
   "metadata": {},
   "outputs": [],
   "source": [
    "import boto3\n",
    "import sagemaker\n",
    "import time\n",
    "\n",
    "\n",
    "region = boto3.Session().region_name\n",
    "role = sagemaker.get_execution_role()\n",
    "default_bucket = sagemaker.session.Session().default_bucket()\n",
    "s3_client = boto3.client(\"sagemaker\")\n",
    "\n",
    "bucket_name = \"deepfake-detection\"\n",
    "dataset_prefix = \"dev_datasets\"\n",
    "output_prefix = f\"{dataset_prefix}/preprocessed_data\"\n",
    "model_package_group_name = \"deepfake-detection-models\"  \n",
    "pipeline_name = \"Deepfake-detection-pipeline\"  "
   ]
  },
  {
   "cell_type": "markdown",
   "metadata": {
    "tags": []
   },
   "source": [
    "## Get the pipeline instance"
   ]
  },
  {
   "cell_type": "code",
   "execution_count": null,
   "metadata": {},
   "outputs": [],
   "source": [
    "from pipelines.pipeline import get_pipeline\n",
    "\n",
    "\n",
    "pipeline = get_pipeline(\n",
    "    region=region,\n",
    "    role=role,\n",
    "    default_bucket=default_bucket,\n",
    "    bucket_name=bucket_name,\n",
    "    model_package_group_name=model_package_group_name,\n",
    "    pipeline_name=pipeline_name,\n",
    "    output_prefix=output_prefix\n",
    ")"
   ]
  },
  {
   "cell_type": "markdown",
   "metadata": {},
   "source": [
    "## Submit the pipeline to SageMaker and start execution"
   ]
  },
  {
   "cell_type": "code",
   "execution_count": null,
   "metadata": {},
   "outputs": [],
   "source": [
    "pipeline.upsert(role_arn=role)"
   ]
  },
  {
   "cell_type": "code",
   "execution_count": 5,
   "metadata": {},
   "outputs": [],
   "source": [
    "execution = pipeline.start()"
   ]
  },
  {
   "cell_type": "markdown",
   "metadata": {},
   "source": [
    "### Pipeline Operations: examining and waiting for pipeline execution"
   ]
  },
  {
   "cell_type": "code",
   "execution_count": 8,
   "metadata": {},
   "outputs": [
    {
     "data": {
      "text/plain": [
       "{'PipelineArn': 'arn:aws:sagemaker:us-east-1:674518009863:pipeline/deepfake-detection-pipeline',\n",
       " 'PipelineExecutionArn': 'arn:aws:sagemaker:us-east-1:674518009863:pipeline/deepfake-detection-pipeline/execution/nde0z3j7layb',\n",
       " 'PipelineExecutionDisplayName': 'execution-1672869399477',\n",
       " 'PipelineExecutionStatus': 'Executing',\n",
       " 'PipelineExperimentConfig': {'ExperimentName': 'deepfake-detection-pipeline',\n",
       "  'TrialName': 'nde0z3j7layb'},\n",
       " 'CreationTime': datetime.datetime(2023, 1, 4, 21, 56, 39, 336000, tzinfo=tzlocal()),\n",
       " 'LastModifiedTime': datetime.datetime(2023, 1, 4, 21, 56, 39, 336000, tzinfo=tzlocal()),\n",
       " 'CreatedBy': {'UserProfileArn': 'arn:aws:sagemaker:us-east-1:674518009863:user-profile/d-lhlxnd4plzw6/nante',\n",
       "  'UserProfileName': 'nante',\n",
       "  'DomainId': 'd-lhlxnd4plzw6'},\n",
       " 'LastModifiedBy': {'UserProfileArn': 'arn:aws:sagemaker:us-east-1:674518009863:user-profile/d-lhlxnd4plzw6/nante',\n",
       "  'UserProfileName': 'nante',\n",
       "  'DomainId': 'd-lhlxnd4plzw6'},\n",
       " 'ResponseMetadata': {'RequestId': '8039fad8-80bc-46e8-8ca8-d5352d887128',\n",
       "  'HTTPStatusCode': 200,\n",
       "  'HTTPHeaders': {'x-amzn-requestid': '8039fad8-80bc-46e8-8ca8-d5352d887128',\n",
       "   'content-type': 'application/x-amz-json-1.1',\n",
       "   'content-length': '816',\n",
       "   'date': 'Wed, 04 Jan 2023 21:58:46 GMT'},\n",
       "  'RetryAttempts': 0}}"
      ]
     },
     "execution_count": 8,
     "metadata": {},
     "output_type": "execute_result"
    }
   ],
   "source": [
    "execution.describe()"
   ]
  },
  {
   "cell_type": "markdown",
   "metadata": {},
   "source": [
    "We can list the execution steps to check out the status and artifacts:"
   ]
  },
  {
   "cell_type": "code",
   "execution_count": 10,
   "metadata": {},
   "outputs": [
    {
     "data": {
      "text/plain": [
       "[{'StepName': 'deepfake-detection-RegisterModel',\n",
       "  'StartTime': datetime.datetime(2023, 1, 4, 22, 10, 44, 394000, tzinfo=tzlocal()),\n",
       "  'EndTime': datetime.datetime(2023, 1, 4, 22, 10, 45, 514000, tzinfo=tzlocal()),\n",
       "  'StepStatus': 'Succeeded',\n",
       "  'AttemptCount': 0,\n",
       "  'Metadata': {'RegisterModel': {'Arn': 'arn:aws:sagemaker:us-east-1:674518009863:model-package/deepfake-detection-models/3'}}},\n",
       " {'StepName': 'check-accuracy-deepfake-evaluation',\n",
       "  'StartTime': datetime.datetime(2023, 1, 4, 22, 10, 43, 419000, tzinfo=tzlocal()),\n",
       "  'EndTime': datetime.datetime(2023, 1, 4, 22, 10, 43, 808000, tzinfo=tzlocal()),\n",
       "  'StepStatus': 'Succeeded',\n",
       "  'AttemptCount': 0,\n",
       "  'Metadata': {'Condition': {'Outcome': 'True'}}},\n",
       " {'StepName': 'evaluate-deepfake-detection-model',\n",
       "  'StartTime': datetime.datetime(2023, 1, 4, 22, 5, 49, 857000, tzinfo=tzlocal()),\n",
       "  'EndTime': datetime.datetime(2023, 1, 4, 22, 10, 42, 979000, tzinfo=tzlocal()),\n",
       "  'StepStatus': 'Succeeded',\n",
       "  'AttemptCount': 0,\n",
       "  'Metadata': {'ProcessingJob': {'Arn': 'arn:aws:sagemaker:us-east-1:674518009863:processing-job/pipelines-nde0z3j7layb-evaluate-deepfake-de-2g1g8asipp'}}},\n",
       " {'StepName': 'train-deepfake-detection-model',\n",
       "  'StartTime': datetime.datetime(2023, 1, 4, 22, 0, 54, 107000, tzinfo=tzlocal()),\n",
       "  'EndTime': datetime.datetime(2023, 1, 4, 22, 5, 49, 277000, tzinfo=tzlocal()),\n",
       "  'StepStatus': 'Succeeded',\n",
       "  'AttemptCount': 0,\n",
       "  'Metadata': {'TrainingJob': {'Arn': 'arn:aws:sagemaker:us-east-1:674518009863:training-job/pipelines-nde0z3j7layb-train-deepfake-detec-ugpHt2Xbg7'}}},\n",
       " {'StepName': 'preprocess-deepfake-data',\n",
       "  'StartTime': datetime.datetime(2023, 1, 4, 21, 56, 40, 760000, tzinfo=tzlocal()),\n",
       "  'EndTime': datetime.datetime(2023, 1, 4, 22, 0, 53, 421000, tzinfo=tzlocal()),\n",
       "  'StepStatus': 'Succeeded',\n",
       "  'AttemptCount': 0,\n",
       "  'Metadata': {'ProcessingJob': {'Arn': 'arn:aws:sagemaker:us-east-1:674518009863:processing-job/pipelines-nde0z3j7layb-preprocess-deepfake--egtrrwrgnz'}}}]"
      ]
     },
     "execution_count": 10,
     "metadata": {},
     "output_type": "execute_result"
    }
   ],
   "source": [
    "execution.list_steps()"
   ]
  },
  {
   "cell_type": "markdown",
   "metadata": {},
   "source": [
    "## Clean up (optional)\n",
    "Delete the model registry and the pipeline to keep the studio environment tidy."
   ]
  },
  {
   "cell_type": "code",
   "execution_count": 12,
   "metadata": {
    "tags": []
   },
   "outputs": [],
   "source": [
    "def delete_model_package_group(sm_client, package_group_name):\n",
    "    try:\n",
    "        model_versions = sm_client.list_model_packages(ModelPackageGroupName=package_group_name)\n",
    "\n",
    "    except Exception as e:\n",
    "        print(\"{} \\n\".format(e))\n",
    "        return\n",
    "\n",
    "    for model_version in model_versions[\"ModelPackageSummaryList\"]:\n",
    "        try:\n",
    "            sm_client.delete_model_package(ModelPackageName=model_version[\"ModelPackageArn\"])\n",
    "        except Exception as e:\n",
    "            print(\"{} \\n\".format(e))\n",
    "        time.sleep(0.5)  # Ensure requests aren't throttled\n",
    "\n",
    "    try:\n",
    "        sm_client.delete_model_package_group(ModelPackageGroupName=package_group_name)\n",
    "        print(\"{} model package group deleted\".format(package_group_name))\n",
    "    except Exception as e:\n",
    "        print(\"{} \\n\".format(e))\n",
    "    return\n",
    "\n",
    "\n",
    "def delete_sagemaker_pipeline(sm_client, pipeline_name):\n",
    "    try:\n",
    "        sm_client.delete_pipeline(\n",
    "            PipelineName=pipeline_name,\n",
    "        )\n",
    "        print(\"{} pipeline deleted\".format(pipeline_name))\n",
    "    except Exception as e:\n",
    "        print(\"{} \\n\".format(e))\n",
    "        return"
   ]
  },
  {
   "cell_type": "code",
   "execution_count": 17,
   "metadata": {
    "tags": []
   },
   "outputs": [
    {
     "name": "stdout",
     "output_type": "stream",
     "text": [
      "deepfake-detection-models model package group deleted\n",
      "Deepfake-detection-pipeline pipeline deleted\n"
     ]
    }
   ],
   "source": [
    "delete_model_package_group(s3_client, model_package_group_name)\n",
    "delete_sagemaker_pipeline(s3_client, pipeline_name)"
   ]
  }
 ],
 "metadata": {
  "instance_type": "ml.t3.medium",
  "kernelspec": {
   "display_name": "Python 3 (Base Python 2.0)",
   "language": "python",
   "name": "python3__SAGEMAKER_INTERNAL__arn:aws:sagemaker:us-east-1:081325390199:image/sagemaker-base-python-38"
  },
  "language_info": {
   "codemirror_mode": {
    "name": "ipython",
    "version": 3
   },
   "file_extension": ".py",
   "mimetype": "text/x-python",
   "name": "python",
   "nbconvert_exporter": "python",
   "pygments_lexer": "ipython3",
   "version": "3.8.12"
  }
 },
 "nbformat": 4,
 "nbformat_minor": 4
}
