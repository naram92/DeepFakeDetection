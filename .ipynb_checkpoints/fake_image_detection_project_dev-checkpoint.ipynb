{
 "cells": [
  {
   "cell_type": "markdown",
   "metadata": {
    "id": "-Yly4fQhA-LO"
   },
   "source": [
    "# DEEPFAKE DETECTION PROJECT"
   ]
  },
  {
   "cell_type": "code",
   "execution_count": null,
   "metadata": {
    "colab": {
     "base_uri": "https://localhost:8080/"
    },
    "id": "CsuOcZk9A-Li",
    "outputId": "d9a07c5b-dd24-4be1-d763-0a4ef5432e49"
   },
   "outputs": [],
   "source": [
    "from google.colab import drive\n",
    "drive.mount(\"/content/gdrive\")\n",
    "\n",
    "base_path = '/content/gdrive/My Drive/Colab Notebooks/deepfake/'"
   ]
  },
  {
   "cell_type": "code",
   "execution_count": null,
   "metadata": {
    "id": "_Zd--KllNPNy"
   },
   "outputs": [],
   "source": [
    "!pip3 install --quiet poutyne efficientnet-pytorch"
   ]
  },
  {
   "cell_type": "code",
   "execution_count": null,
   "metadata": {
    "id": "hjhgKOh9A-Lu"
   },
   "outputs": [],
   "source": [
    "import sys\n",
    "sys.path.append(base_path)"
   ]
  },
  {
   "cell_type": "code",
   "execution_count": null,
   "metadata": {
    "id": "tWguqkOXA-Lz"
   },
   "outputs": [],
   "source": [
    "import os\n",
    "import numpy as np\n",
    "import pandas as pd\n",
    "import matplotlib.pyplot as plt\n",
    "import cv2\n",
    "\n",
    "from PIL import Image\n",
    "from tqdm import tqdm\n",
    "\n",
    "from pathlib import Path\n",
    "from concurrent.futures import ThreadPoolExecutor\n",
    "from functools import partial\n",
    "\n",
    "from blazeface import BlazeFace\n",
    "\n",
    "from torch.utils.data import Dataset, DataLoader\n",
    "from torchvision import transforms\n",
    "\n",
    "import torch\n",
    "import torch.nn as nn\n",
    "import torch.nn.functional as F\n",
    "import torch.optim as optim\n",
    "import torchvision\n",
    "from efficientnet_pytorch import EfficientNet\n",
    "from poutyne.framework import Model, ModelCheckpoint, BestModelRestore, CSVLogger\n",
    "\n",
    "\n",
    "device = torch.device('cuda:0' if torch.cuda.is_available() else 'cpu')"
   ]
  },
  {
   "cell_type": "markdown",
   "metadata": {
    "id": "U6rFYG20A-L9"
   },
   "source": [
    "## Datasets Preprocessing"
   ]
  },
  {
   "cell_type": "code",
   "execution_count": null,
   "metadata": {
    "colab": {
     "base_uri": "https://localhost:8080/",
     "height": 81,
     "referenced_widgets": [
      "205927d0b97b4954bf28c752aec55631",
      "ef925a82d36442dcb74cd4162e879f1b",
      "04e6ecb5472248b58cf12a0708dfc762",
      "27e8317cab9b4b8baa385c756c34f0f7",
      "4785229d586d48bab06cae05bc7a093e",
      "31e014236bc64ef6aa1d6fb5a5ad0742",
      "f7c9d133e4134b0aa749d271df3cfaec",
      "83b79538e8e44cc0b47c2e9e791633f9",
      "6e8e5ad77ad8442f80c25d1b8ce1d968",
      "82081d86b25b4f3787ce6d09a589a6b1",
      "dd74382c0c0242bead97220824a0ed16",
      "9c28a932c1a14db3bf90fc8f9a24662a",
      "48c716e3f08d4a0b86e35bce7a67c22a",
      "1ade3d79b2104a938cf88ef67c97e4e7",
      "f72c18bfe6ba4c79b7c3819bed071ce7",
      "0c540988e94f42f5858f4d4fbb836530",
      "03d648803dcc4b31aa58115ea9bfc0f1",
      "a3f2a6dce9df46b4af4fd8dad52e1c98",
      "6899fa87e0de4d4295917f291552ebea",
      "9f9269f2d4fb459eb7f8d86d158ae24b",
      "af766448bf2a4f239399b6eb026bdaf2",
      "88d52087747d49ad8e41640ff780b6db"
     ]
    },
    "id": "JejuMvSZEYuu",
    "outputId": "a6665677-3d5b-4f98-92a4-2bb7667b1b61"
   },
   "outputs": [
    {
     "data": {
      "application/vnd.jupyter.widget-view+json": {
       "model_id": "205927d0b97b4954bf28c752aec55631",
       "version_major": 2,
       "version_minor": 0
      },
      "text/plain": [
       "  0%|          | 0/11 [00:00<?, ?it/s]"
      ]
     },
     "metadata": {},
     "output_type": "display_data"
    },
    {
     "data": {
      "application/vnd.jupyter.widget-view+json": {
       "model_id": "9c28a932c1a14db3bf90fc8f9a24662a",
       "version_major": 2,
       "version_minor": 0
      },
      "text/plain": [
       "  0%|          | 0/11 [00:00<?, ?it/s]"
      ]
     },
     "metadata": {},
     "output_type": "display_data"
    }
   ],
   "source": [
    "# Build a dev dataset\n",
    "import os\n",
    "import shutil\n",
    "from pathlib import Path\n",
    "from tqdm.auto import tqdm\n",
    "\n",
    "\n",
    "manipulated_sequences = ['DeepFakeDetection/c23/videos/13_02__secret_conversation__CP5HFV3K.mp4', 'DeepFakeDetection/c23/videos/17_08__podium_speech_happy__JZYRLJ8T.mp4', 'DeepFakeDetection/c23/videos/07_12__walking_outside_cafe_disgusted__KAG65PEE.mp4', 'DeepFakeDetection/c23/videos/06_07__walking_outside_cafe_disgusted__NMGYPBXE.mp4', 'Deepfakes/c23/videos/220_219.mp4', 'FaceSwap/c23/videos/486_680.mp4', 'FaceSwap/c23/videos/383_353.mp4', 'NeuralTextures/c23/videos/363_343.mp4', 'NeuralTextures/c23/videos/353_383.mp4', 'Face2Face/c23/videos/343_363.mp4', 'Face2Face/c23/videos/287_426.mp4']\n",
    "manipulated_sequences_dir = Path(os.path.join(base_path, 'datasets/manipulated_sequences/'))\n",
    "manipulated_sequences_dest_dir = Path(os.path.join(base_path, 'dev_datasets/manipulated_sequences/'))\n",
    "for item in tqdm(manipulated_sequences):\n",
    "  file_path = manipulated_sequences_dir.joinpath(item)\n",
    "  file_dest_path = manipulated_sequences_dest_dir.joinpath(item)\n",
    "  if not os.path.exists(file_dest_path.parent):\n",
    "    os.makedirs(file_dest_path.parent, exist_ok=True)\n",
    "  if not os.path.exists(file_dest_path):\n",
    "    shutil.copy(file_path, file_dest_path)\n",
    "\n",
    "original_sequences = ['youtube/c23/videos/343.mp4', 'youtube/c23/videos/383.mp4', 'youtube/c23/videos/220.mp4', 'youtube/c23/videos/353.mp4', 'youtube/c23/videos/486.mp4', 'youtube/c23/videos/287.mp4', 'youtube/c23/videos/363.mp4', 'actors/c23/videos/06__walking_outside_cafe_disgusted.mp4', 'actors/c23/videos/13__secret_conversation.mp4', 'actors/c23/videos/17__podium_speech_happy.mp4', 'actors/c23/videos/07__walking_outside_cafe_disgusted.mp4']\n",
    "original_sequences_dir = Path(os.path.join(base_path, 'datasets/original_sequences/'))\n",
    "original_sequences_dest_dir = Path(os.path.join(base_path, 'dev_datasets/original_sequences/'))\n",
    "for item in tqdm(original_sequences):\n",
    "  file_path = original_sequences_dir.joinpath(item)\n",
    "  file_dest_path = original_sequences_dest_dir.joinpath(item)\n",
    "  if not os.path.exists(file_dest_path.parent):\n",
    "    os.makedirs(file_dest_path.parent, exist_ok=True)\n",
    "  if not os.path.exists(file_dest_path):\n",
    "    shutil.copy(file_path, file_dest_path)"
   ]
  },
  {
   "cell_type": "code",
   "execution_count": null,
   "metadata": {
    "id": "8zrO7GjUA-L_"
   },
   "outputs": [],
   "source": [
    "FFPP_SRC = os.path.join(base_path, 'dev_datasets')\n",
    "VIDEODF_SRC = os.path.join(FFPP_SRC, 'ffpp_videos.pkl')\n",
    "\n",
    "BLAZEFACE_WEIGHTS = os.path.join(base_path, \"blazeface/blazeface.pth\")\n",
    "BLAZEFACE_ANCHORS = os.path.join(base_path, \"blazeface/anchors.npy\")\n",
    "\n",
    "FACES_DST = os.path.join(FFPP_SRC, 'extract_faces')\n",
    "FACESDF_DST = os.path.join(FACES_DST, 'ffpp_faces.pkl')\n",
    "CHECKPOINT_DST = os.path.join(FACES_DST, 'checkpoint')"
   ]
  },
  {
   "cell_type": "markdown",
   "metadata": {
    "id": "hkMswaAHA-MF"
   },
   "source": [
    "### FF++ Preprocessing"
   ]
  },
  {
   "cell_type": "code",
   "execution_count": null,
   "metadata": {
    "id": "Wkz8jXImA-MH"
   },
   "outputs": [],
   "source": [
    "def preprocess_ffpp(source_dir, video_dataset_path):\n",
    "    \"\"\"\n",
    "        Preprocessing video dataset : Set the label of each video {0 for real video, \n",
    "        1 for fake video} and the video original of fake videos.\n",
    "        :param source_dir: The parent directory that contains all videos (real or fake)\n",
    "        :param video_dataset_path: The path to save the videos DataFrame[path, name, \n",
    "                                    label, original]\n",
    "    \"\"\" \n",
    "    source_dir = Path(source_dir)\n",
    "    video_dataset_path = Path(video_dataset_path)\n",
    "    \n",
    "    # Create ouput folder (if doesn't exist)\n",
    "    video_dataset_path.parent.mkdir(parents=True, exist_ok=True)\n",
    "\n",
    "    ## DataFrame\n",
    "    if video_dataset_path.exists():\n",
    "        print('Loading video DataFrame')\n",
    "        df_videos = pd.read_pickle(video_dataset_path)\n",
    "    else:\n",
    "        print('Creating video DataFrame')\n",
    "        df_videos = pd.DataFrame({'path': [f.relative_to(source_dir) \n",
    "                                          for f in source_dir.rglob('*.mp4')]})\n",
    "        \n",
    "        # 1 if fake, otherwise 0\n",
    "        df_videos['label'] = df_videos['path'].map(\n",
    "            lambda x: 1 if x.parts[0] == 'manipulated_sequences' else 0)\n",
    "        \n",
    "        source = df_videos['path'].map(lambda x: x.parts[1]).astype('category')\n",
    "        df_videos['name'] = df_videos['path'].map(lambda x: x.with_suffix('').parts[-1])\n",
    "        df_videos['path'] = df_videos['path'].map(lambda x: str(x))\n",
    "\n",
    "        df_videos['original'] = -1 * np.ones(len(df_videos), dtype=np.int16)\n",
    "        df_videos.loc[(df_videos['label'] == 1) & (source != 'DeepFakeDetection'), 'original'] = \\\n",
    "            df_videos[(df_videos['label'] == 1) & (source != 'DeepFakeDetection')]['name'].map(\n",
    "                lambda x: df_videos.index[np.flatnonzero(df_videos['name'] == x.split('_')[0])[0]]\n",
    "            )\n",
    "        df_videos.loc[(df_videos['label'] == 1) & (source == 'DeepFakeDetection'), 'original'] = \\\n",
    "            df_videos[(df_videos['label'] == 1) & (source == 'DeepFakeDetection')]['name'].map(\n",
    "                lambda x: df_videos.index[\n",
    "                    np.flatnonzero(df_videos['name'] == x.split('_')[0] + '__' + x.split('__')[1])[0]]\n",
    "            )\n",
    "\n",
    "        print('Saving video DataFrame to {}'.format(video_dataset_path))\n",
    "        df_videos.to_pickle(str(video_dataset_path))\n",
    "\n",
    "    print('Real videos: {:d}'.format(sum(df_videos['label'] == 0)))\n",
    "    print('Fake videos: {:d}'.format(sum(df_videos['label'] == 1)))"
   ]
  },
  {
   "cell_type": "code",
   "execution_count": null,
   "metadata": {
    "colab": {
     "base_uri": "https://localhost:8080/"
    },
    "id": "50I8DTgAA-MX",
    "outputId": "8735b548-a46b-442d-956d-075374528774"
   },
   "outputs": [
    {
     "name": "stdout",
     "output_type": "stream",
     "text": [
      "Loading video DataFrame\n",
      "Real videos: 11\n",
      "Fake videos: 11\n"
     ]
    }
   ],
   "source": [
    "# preprocess ff++ data\n",
    "preprocess_ffpp(FFPP_SRC, VIDEODF_SRC)"
   ]
  },
  {
   "cell_type": "markdown",
   "metadata": {
    "id": "8YjT22kUA-MN"
   },
   "source": [
    "### Extract faces"
   ]
  },
  {
   "cell_type": "code",
   "execution_count": null,
   "metadata": {
    "id": "J7r42lQjA-MP"
   },
   "outputs": [],
   "source": [
    "def extract_faces_on_video(video_df, source_dir, faces_dir, checkpoint_dir, \n",
    "                           blazeface, num_frames, face_size=224, margin=0.25):\n",
    "     \"\"\"\n",
    "        This function extracts `num_frames` frames from the videos that contain a face.\n",
    "        :param video_df: The DataFrame that contains all information about the datasets. \n",
    "            It has the following columns: [path, name, label, original].\n",
    "        :param source_dir: The parent directory that contains the datasets\n",
    "        :param faces_dir: The directory path to save the extracted faces from the datasets\n",
    "        :param checkpoint_dir: The directory path to save the DataFrame[path, label, video, \n",
    "            original, frame_index, score, detection] of the extracted faces\n",
    "        :param blazeface: A Balazeface object that will be used as the face detector in all \n",
    "            frames\n",
    "        :param num_frames: The number of frames to extract in each video\n",
    "        :param face_size (default = 224) : Each frame extracted will have the size \n",
    "            face_size x face_size\n",
    "        :param margin (default = 0.25) : The offset margin for face detection.\n",
    "    \"\"\"\n",
    "    video_idx, video_df = video_df\n",
    "    faces_checkpoint_path = Path(checkpoint_dir).joinpath(video_df['path'].split('.')[0] + '_faces.pkl')\n",
    "    if faces_checkpoint_path.exists():\n",
    "        faces = pd.read_pickle(faces_checkpoint_path)\n",
    "        return faces\n",
    "    \n",
    "    reader = cv2.VideoCapture(str(Path(source_dir).joinpath(video_df['path'])))\n",
    "    frame_count = int(reader.get(cv2.CAP_PROP_FRAME_COUNT))\n",
    "    frame_idx = np.unique(np.linspace(0, frame_count - 1, num_frames, dtype=int))\n",
    "    # Get the frames choosen\n",
    "    frames, idx = [], 0\n",
    "    while reader.grab():\n",
    "        if idx in frame_idx:\n",
    "            ret, frame = reader.retrieve()\n",
    "            if not ret or frame is None:\n",
    "                print(\"Error retrieving frame %d from movie %s\" % (frame_idx, path))\n",
    "                break\n",
    "            frames.append(cv2.cvtColor(frame, cv2.COLOR_BGR2RGB))\n",
    "        idx += 1\n",
    "    frames = np.stack(frames)\n",
    "\n",
    "    target_w, target_h = blazeface.input_size\n",
    "    # For each frame, get some tiles with target_w x target_h as size\n",
    "    num_frames, height, width, _ = frames.shape\n",
    "\n",
    "    split_size = min(height, width, 720)\n",
    "    x_step = (width - split_size) // 2\n",
    "    y_step = (height - split_size) // 2\n",
    "    num_h = (height - split_size) // y_step + 1 if y_step > 0 else 1\n",
    "    num_w = (width - split_size) // x_step + 1 if x_step > 0 else 1\n",
    "\n",
    "    tiles = np.zeros((num_frames * num_h * num_w, target_h, target_w, 3), \n",
    "                     dtype=np.uint8)\n",
    "    i = 0\n",
    "    for f in range(num_frames):\n",
    "        y = 0\n",
    "        for _ in range(num_h):\n",
    "            x = 0\n",
    "            for __ in range(num_w):\n",
    "                crop = frames[f, y:y + split_size, x:x + split_size, :]\n",
    "                tiles[i] = cv2.resize(crop, (target_w, target_h), \n",
    "                                      interpolation=cv2.INTER_AREA)\n",
    "                x += x_step\n",
    "                i += 1\n",
    "            y += y_step\n",
    "\n",
    "    # Run the face detector. The result is a list of PyTorch tensors\n",
    "    detections = blazeface.predict_on_batch(tiles, apply_nms=False)\n",
    "    # Convert the detections from 128x128 back to the original frame size\n",
    "    for i in range(len(detections)):\n",
    "        # ymin, xmin, ymax, xmax\n",
    "        for k in range(2):\n",
    "            detections[i][:, k * 2] = (detections[i][:, k * 2] * target_h) * split_size / target_h\n",
    "            detections[i][:, k * 2 + 1] = (detections[i][:, k * 2 + 1] * target_w) * split_size / target_w\n",
    "\n",
    "    # Because we have several tiles for each frame, combine the predictions from these tiles.\n",
    "    combined_detections = []\n",
    "    i = 0\n",
    "    for f in range(num_frames):\n",
    "        detections_for_frame = []\n",
    "        y = 0\n",
    "        for _ in range(num_h):\n",
    "            x = 0\n",
    "            for __ in range(num_w):\n",
    "                # Adjust the coordinates based on the split positions.\n",
    "                if detections[i].shape[0] > 0:\n",
    "                    for k in range(2):\n",
    "                        detections[i][:, k * 2] += y\n",
    "                        detections[i][:, k * 2 + 1] += x\n",
    "                \n",
    "                detections_for_frame.append(detections[i])\n",
    "                x += x_step\n",
    "                i += 1\n",
    "            y += y_step\n",
    "            \n",
    "        combined_detections.append(torch.cat(detections_for_frame))\n",
    "    if len(combined_detections) == 0:\n",
    "        return None\n",
    "    detections = blazeface.nms(combined_detections)\n",
    "    # Crop the faces out of the original frame.\n",
    "    faces = []\n",
    "    for i in range(len(detections)):\n",
    "        offset = torch.round(margin * (detections[i][:, 2] - detections[i][:, 0])) # margin 0.2\n",
    "        detections[i][:, 0] = torch.clamp(detections[i][:, 0] - offset * 2, min=0)  # ymin\n",
    "        detections[i][:, 1] = torch.clamp(detections[i][:, 1] - offset, min=0)  # xmin\n",
    "        detections[i][:, 2] = torch.clamp(detections[i][:, 2] + offset, max=height)  # ymax\n",
    "        detections[i][:, 3] = torch.clamp(detections[i][:, 3] + offset, max=width)  # xmax\n",
    "        \n",
    "        # Get the first best scored face\n",
    "        score, face, detection = 0, None, None\n",
    "        for j in range(len(detections[i])):\n",
    "            if score < detections[i][j][16].cpu():\n",
    "                detection = detections[i][j].cpu()\n",
    "                ymin, xmin, ymax, xmax = detection[:4].cpu().numpy().astype(int)\n",
    "                face = frames[i][ymin:ymax, xmin:xmax, :]\n",
    "                score = detection[16]\n",
    "                break\n",
    "        if face is not None:\n",
    "            image = Image.fromarray(face)\n",
    "            # Crop the image to face_size x face_size\n",
    "            top, left, bottom, right = detection[:4].cpu().numpy().astype(int)\n",
    "            x_ctr = (left + right) // 2\n",
    "            y_ctr = (top + bottom) // 2\n",
    "            new_top = max(y_ctr - face_size // 2, 0)\n",
    "            new_bottom = min(new_top + face_size, height)\n",
    "            new_left = max(x_ctr - face_size // 2, 0)\n",
    "            new_right = min(new_left + face_size, width)\n",
    "            image.crop([new_left, new_top, new_right, new_bottom])\n",
    "            # Save image\n",
    "            face_path = Path(faces_dir).joinpath(video_df['path']).joinpath('frame_{}.jpg'.format(frame_idx[i]))\n",
    "            face_path.parent.mkdir(parents=True, exist_ok=True)\n",
    "            image.save(face_path)\n",
    "            \n",
    "            faces.append({\n",
    "                'path': str(Path(video_df['path']).joinpath('frame_{}.jpg'.format(frame_idx[i]))),\n",
    "                'label': video_df['label'],\n",
    "                'video': video_idx,\n",
    "                'original': video_df['original'],\n",
    "                'frame_index': frame_idx[i],\n",
    "                'score': float(score.numpy()),\n",
    "                'detection': detection[:4].cpu().numpy().astype(int)\n",
    "            })\n",
    "        # Save checkpoint\n",
    "        faces_checkpoint_path.parent.mkdir(parents=True, exist_ok=True)\n",
    "        pd.DataFrame(faces).to_pickle(str(faces_checkpoint_path))\n",
    "        \n",
    "    return faces"
   ]
  },
  {
   "cell_type": "code",
   "execution_count": null,
   "metadata": {
    "id": "qIy8YsWJA-MU"
   },
   "outputs": [],
   "source": [
    "def extract_faces(source_dir, videos_df, faces_dir, faces_df, checkpoint_dir, \n",
    "                  frames_per_video=15, batch_size=16, face_size=224, thread_num=4):\n",
    "    \"\"\"\n",
    "        This function extracts all frames from the dataset that contain a face.\n",
    "        :param source_dir: The parent directory that contains the datasets\n",
    "        :param videos_df: The path of the DataFrame containing all information \n",
    "            about the videos in the dataset.\n",
    "        :param faces_dir: The directory path to save the extracted faces from the datasets\n",
    "        :param faces_df: The path to save the DataFrame containing all informations \n",
    "            about the extracted faces\n",
    "        :param checkpoint_dir: The directory path to save the DataFrame[path, label, \n",
    "            video, original, frame_index, score, detection] of the extracted faces\n",
    "        :param blazeface_weights: The Blazeface weights directory\n",
    "        :param blazeface_weights: The Blazeface anchors directory\n",
    "        :param frames_per_video (default = 15): The number of frames to extract in each video\n",
    "        :param batch_size (default = 16): The batch size of videos to process together\n",
    "        :param face_size (default = 224) : Each frame extracted will have the size face_size x face_size\n",
    "        :thread_num (default = 4): The number of threads to be used during the extraction\n",
    "    \"\"\"\n",
    "    if Path(faces_df).exists():\n",
    "        df_faces = pd.read_pickle(faces_df)\n",
    "        print('We got {} faces'.format(len(df_faces)))\n",
    "        print('Faces DataFrame Loaded')\n",
    "        return df_faces\n",
    "    \n",
    "    device = torch.device('cuda:0' if torch.cuda.is_available() else 'cpu')\n",
    "    \n",
    "    print('Loading video DataFrame')\n",
    "    df_videos = pd.read_pickle(videos_df)\n",
    "    \n",
    "    print('Loading Blazeface model')\n",
    "    blazeface_net = BlazeFace().to(device)\n",
    "    blazeface_net.load_weights(BLAZEFACE_WEIGHTS)\n",
    "    blazeface_net.load_anchors(BLAZEFACE_ANCHORS)    \n",
    "    blazeface_net.min_score_thresh = 0.8\n",
    "    \n",
    "    ## Face extraction\n",
    "    with ThreadPoolExecutor(thread_num) as pool:\n",
    "        for batch_idx0 in tqdm(np.arange(start=0, stop=len(df_videos), step=batch_size),\n",
    "                               desc='Extracting faces'):\n",
    "            list(pool.map(partial(extract_faces_on_video,\n",
    "                          source_dir=source_dir,\n",
    "                          faces_dir=faces_dir,\n",
    "                          checkpoint_dir=checkpoint_dir,\n",
    "                          blazeface=blazeface_net,\n",
    "                          num_frames=frames_per_video,\n",
    "                          face_size=face_size,\n",
    "                          ),\n",
    "                          df_videos.iloc[batch_idx0:batch_idx0 + batch_size].iterrows()))\n",
    "    \n",
    "    faces_dataset = []\n",
    "    for _, df in tqdm(df_videos.iterrows(), total=len(df_videos), desc='Collecting faces results'):\n",
    "        face_checkpoint = Path(checkpoint_dir).joinpath(df['path'].split('.')[0] + '_faces.pkl')\n",
    "        if face_checkpoint.exists():\n",
    "            faces_dataset.append(pd.read_pickle(str(face_checkpoint)))\n",
    "    df_faces = pd.concat(faces_dataset, axis=0)\n",
    "    df_faces.to_pickle(faces_df)\n",
    "    print('We got {} faces'.format(len(df_faces)))\n",
    "    print('Completed!')\n",
    "    return df_faces"
   ]
  },
  {
   "cell_type": "code",
   "execution_count": null,
   "metadata": {
    "colab": {
     "base_uri": "https://localhost:8080/"
    },
    "id": "Wy0Y5AwtA-Mb",
    "outputId": "f22d0b68-acb4-49df-c22e-02a691903f19"
   },
   "outputs": [
    {
     "name": "stdout",
     "output_type": "stream",
     "text": [
      "We got 327 faces\n",
      "Faces DataFrame Loaded\n"
     ]
    }
   ],
   "source": [
    "# Run extraction\n",
    "df_faces = extract_faces(FFPP_SRC, VIDEODF_SRC, FACES_DST, FACESDF_DST,  CHECKPOINT_DST)"
   ]
  },
  {
   "cell_type": "markdown",
   "metadata": {
    "id": "mIzeeGplA-NQ"
   },
   "source": [
    "## Dataset processing"
   ]
  },
  {
   "cell_type": "code",
   "execution_count": null,
   "metadata": {
    "id": "6_y-9WSIA-NR"
   },
   "outputs": [],
   "source": [
    "IMG_SIZE = 224\n",
    "BATCH_SIZE = 128"
   ]
  },
  {
   "cell_type": "markdown",
   "metadata": {
    "id": "hb3FfzYeA-NU"
   },
   "source": [
    "### Split dataset on original video"
   ]
  },
  {
   "cell_type": "code",
   "execution_count": null,
   "metadata": {
    "id": "rLAoN8D1A-NU"
   },
   "outputs": [],
   "source": [
    "def make_splits(df_faces, train_ratio=0.7, val_ratio=0.15):\n",
    "    \"\"\"\n",
    "    Splitting the dataset into three subsets : train, validation and test.\n",
    "    \"\"\"\n",
    "    random_original_videos = np.random.permutation(df_faces[(df_faces['label'] == 0)]['video'].unique())\n",
    "    train_num = int(len(random_original_videos) * train_ratio)\n",
    "    val_num = int(len(random_original_videos) * val_ratio)\n",
    "    train_original = random_original_videos[:train_num]\n",
    "    val_original = random_original_videos[train_num: train_num + val_num]\n",
    "    test_original = random_original_videos[train_num + val_num:]\n",
    "    \n",
    "    df_train = pd.concat([df_faces[df_faces['original'].isin(train_original)], \n",
    "                          df_faces[df_faces['video'].isin(train_original)]], ignore_index=True)\n",
    "    df_val = pd.concat([df_faces[df_faces['original'].isin(val_original)], \n",
    "                        df_faces[df_faces['video'].isin(val_original)]], ignore_index=True)\n",
    "    df_test = pd.concat([df_faces[df_faces['original'].isin(test_original)], \n",
    "                         df_faces[df_faces['video'].isin(test_original)]], ignore_index=True)\n",
    "    \n",
    "    return df_train, df_val, df_test"
   ]
  },
  {
   "cell_type": "code",
   "execution_count": null,
   "metadata": {
    "id": "dtLSibzXCXIA"
   },
   "outputs": [],
   "source": [
    "df_faces = pd.read_pickle(FACESDF_DST)"
   ]
  },
  {
   "cell_type": "code",
   "execution_count": null,
   "metadata": {
    "colab": {
     "base_uri": "https://localhost:8080/",
     "height": 206
    },
    "id": "2FdyPSuBChgk",
    "outputId": "e37e0d67-0597-40ea-df91-39f0ad87899e"
   },
   "outputs": [
    {
     "data": {
      "text/html": [
       "\n",
       "  <div id=\"df-8311e766-068b-4970-b796-8d6b4128f3c6\">\n",
       "    <div class=\"colab-df-container\">\n",
       "      <div>\n",
       "<style scoped>\n",
       "    .dataframe tbody tr th:only-of-type {\n",
       "        vertical-align: middle;\n",
       "    }\n",
       "\n",
       "    .dataframe tbody tr th {\n",
       "        vertical-align: top;\n",
       "    }\n",
       "\n",
       "    .dataframe thead th {\n",
       "        text-align: right;\n",
       "    }\n",
       "</style>\n",
       "<table border=\"1\" class=\"dataframe\">\n",
       "  <thead>\n",
       "    <tr style=\"text-align: right;\">\n",
       "      <th></th>\n",
       "      <th>path</th>\n",
       "      <th>label</th>\n",
       "      <th>video</th>\n",
       "      <th>original</th>\n",
       "      <th>frame_index</th>\n",
       "      <th>score</th>\n",
       "      <th>detection</th>\n",
       "    </tr>\n",
       "  </thead>\n",
       "  <tbody>\n",
       "    <tr>\n",
       "      <th>0</th>\n",
       "      <td>manipulated_sequences/DeepFakeDetection/c23/vi...</td>\n",
       "      <td>1</td>\n",
       "      <td>0</td>\n",
       "      <td>19</td>\n",
       "      <td>0</td>\n",
       "      <td>0.956380</td>\n",
       "      <td>[79, 1281, 340, 1505]</td>\n",
       "    </tr>\n",
       "    <tr>\n",
       "      <th>1</th>\n",
       "      <td>manipulated_sequences/DeepFakeDetection/c23/vi...</td>\n",
       "      <td>1</td>\n",
       "      <td>0</td>\n",
       "      <td>19</td>\n",
       "      <td>9</td>\n",
       "      <td>0.980014</td>\n",
       "      <td>[79, 1287, 343, 1513]</td>\n",
       "    </tr>\n",
       "    <tr>\n",
       "      <th>2</th>\n",
       "      <td>manipulated_sequences/DeepFakeDetection/c23/vi...</td>\n",
       "      <td>1</td>\n",
       "      <td>0</td>\n",
       "      <td>19</td>\n",
       "      <td>19</td>\n",
       "      <td>0.948452</td>\n",
       "      <td>[44, 1277, 365, 1551]</td>\n",
       "    </tr>\n",
       "    <tr>\n",
       "      <th>3</th>\n",
       "      <td>manipulated_sequences/DeepFakeDetection/c23/vi...</td>\n",
       "      <td>1</td>\n",
       "      <td>0</td>\n",
       "      <td>19</td>\n",
       "      <td>29</td>\n",
       "      <td>0.934964</td>\n",
       "      <td>[26, 1273, 363, 1562]</td>\n",
       "    </tr>\n",
       "    <tr>\n",
       "      <th>4</th>\n",
       "      <td>manipulated_sequences/DeepFakeDetection/c23/vi...</td>\n",
       "      <td>1</td>\n",
       "      <td>0</td>\n",
       "      <td>19</td>\n",
       "      <td>39</td>\n",
       "      <td>0.945736</td>\n",
       "      <td>[52, 1301, 339, 1548]</td>\n",
       "    </tr>\n",
       "  </tbody>\n",
       "</table>\n",
       "</div>\n",
       "      <button class=\"colab-df-convert\" onclick=\"convertToInteractive('df-8311e766-068b-4970-b796-8d6b4128f3c6')\"\n",
       "              title=\"Convert this dataframe to an interactive table.\"\n",
       "              style=\"display:none;\">\n",
       "        \n",
       "  <svg xmlns=\"http://www.w3.org/2000/svg\" height=\"24px\"viewBox=\"0 0 24 24\"\n",
       "       width=\"24px\">\n",
       "    <path d=\"M0 0h24v24H0V0z\" fill=\"none\"/>\n",
       "    <path d=\"M18.56 5.44l.94 2.06.94-2.06 2.06-.94-2.06-.94-.94-2.06-.94 2.06-2.06.94zm-11 1L8.5 8.5l.94-2.06 2.06-.94-2.06-.94L8.5 2.5l-.94 2.06-2.06.94zm10 10l.94 2.06.94-2.06 2.06-.94-2.06-.94-.94-2.06-.94 2.06-2.06.94z\"/><path d=\"M17.41 7.96l-1.37-1.37c-.4-.4-.92-.59-1.43-.59-.52 0-1.04.2-1.43.59L10.3 9.45l-7.72 7.72c-.78.78-.78 2.05 0 2.83L4 21.41c.39.39.9.59 1.41.59.51 0 1.02-.2 1.41-.59l7.78-7.78 2.81-2.81c.8-.78.8-2.07 0-2.86zM5.41 20L4 18.59l7.72-7.72 1.47 1.35L5.41 20z\"/>\n",
       "  </svg>\n",
       "      </button>\n",
       "      \n",
       "  <style>\n",
       "    .colab-df-container {\n",
       "      display:flex;\n",
       "      flex-wrap:wrap;\n",
       "      gap: 12px;\n",
       "    }\n",
       "\n",
       "    .colab-df-convert {\n",
       "      background-color: #E8F0FE;\n",
       "      border: none;\n",
       "      border-radius: 50%;\n",
       "      cursor: pointer;\n",
       "      display: none;\n",
       "      fill: #1967D2;\n",
       "      height: 32px;\n",
       "      padding: 0 0 0 0;\n",
       "      width: 32px;\n",
       "    }\n",
       "\n",
       "    .colab-df-convert:hover {\n",
       "      background-color: #E2EBFA;\n",
       "      box-shadow: 0px 1px 2px rgba(60, 64, 67, 0.3), 0px 1px 3px 1px rgba(60, 64, 67, 0.15);\n",
       "      fill: #174EA6;\n",
       "    }\n",
       "\n",
       "    [theme=dark] .colab-df-convert {\n",
       "      background-color: #3B4455;\n",
       "      fill: #D2E3FC;\n",
       "    }\n",
       "\n",
       "    [theme=dark] .colab-df-convert:hover {\n",
       "      background-color: #434B5C;\n",
       "      box-shadow: 0px 1px 3px 1px rgba(0, 0, 0, 0.15);\n",
       "      filter: drop-shadow(0px 1px 2px rgba(0, 0, 0, 0.3));\n",
       "      fill: #FFFFFF;\n",
       "    }\n",
       "  </style>\n",
       "\n",
       "      <script>\n",
       "        const buttonEl =\n",
       "          document.querySelector('#df-8311e766-068b-4970-b796-8d6b4128f3c6 button.colab-df-convert');\n",
       "        buttonEl.style.display =\n",
       "          google.colab.kernel.accessAllowed ? 'block' : 'none';\n",
       "\n",
       "        async function convertToInteractive(key) {\n",
       "          const element = document.querySelector('#df-8311e766-068b-4970-b796-8d6b4128f3c6');\n",
       "          const dataTable =\n",
       "            await google.colab.kernel.invokeFunction('convertToInteractive',\n",
       "                                                     [key], {});\n",
       "          if (!dataTable) return;\n",
       "\n",
       "          const docLinkHtml = 'Like what you see? Visit the ' +\n",
       "            '<a target=\"_blank\" href=https://colab.research.google.com/notebooks/data_table.ipynb>data table notebook</a>'\n",
       "            + ' to learn more about interactive tables.';\n",
       "          element.innerHTML = '';\n",
       "          dataTable['output_type'] = 'display_data';\n",
       "          await google.colab.output.renderOutput(dataTable, element);\n",
       "          const docLink = document.createElement('div');\n",
       "          docLink.innerHTML = docLinkHtml;\n",
       "          element.appendChild(docLink);\n",
       "        }\n",
       "      </script>\n",
       "    </div>\n",
       "  </div>\n",
       "  "
      ],
      "text/plain": [
       "                                                path  label  video  original  \\\n",
       "0  manipulated_sequences/DeepFakeDetection/c23/vi...      1      0        19   \n",
       "1  manipulated_sequences/DeepFakeDetection/c23/vi...      1      0        19   \n",
       "2  manipulated_sequences/DeepFakeDetection/c23/vi...      1      0        19   \n",
       "3  manipulated_sequences/DeepFakeDetection/c23/vi...      1      0        19   \n",
       "4  manipulated_sequences/DeepFakeDetection/c23/vi...      1      0        19   \n",
       "\n",
       "   frame_index     score              detection  \n",
       "0            0  0.956380  [79, 1281, 340, 1505]  \n",
       "1            9  0.980014  [79, 1287, 343, 1513]  \n",
       "2           19  0.948452  [44, 1277, 365, 1551]  \n",
       "3           29  0.934964  [26, 1273, 363, 1562]  \n",
       "4           39  0.945736  [52, 1301, 339, 1548]  "
      ]
     },
     "execution_count": 15,
     "metadata": {},
     "output_type": "execute_result"
    }
   ],
   "source": [
    "df_faces.head()"
   ]
  },
  {
   "cell_type": "code",
   "execution_count": null,
   "metadata": {
    "id": "KLy4qAuQA-NZ"
   },
   "outputs": [],
   "source": [
    "df_train, df_val, df_test = make_splits(df_faces)"
   ]
  },
  {
   "cell_type": "code",
   "execution_count": null,
   "metadata": {
    "colab": {
     "base_uri": "https://localhost:8080/"
    },
    "id": "AlpQAHFPA-Nc",
    "outputId": "2ddc15be-cd83-454e-b8e2-2b3138eeacc3"
   },
   "outputs": [
    {
     "name": "stdout",
     "output_type": "stream",
     "text": [
      "Total dataset : 327\n",
      "Total train : 208\n",
      "Total val : 30\n",
      "Total test : 89\n"
     ]
    }
   ],
   "source": [
    "r_train, _ = df_train.shape\n",
    "r_val, _ = df_val.shape\n",
    "r_test, _ = df_test.shape\n",
    "\n",
    "print('Total dataset : {}'.format(r_train+r_val+r_test))\n",
    "print('Total train : {}'.format(r_train))\n",
    "print('Total val : {}'.format(r_val))\n",
    "print('Total test : {}'.format(r_test))"
   ]
  },
  {
   "cell_type": "markdown",
   "metadata": {
    "id": "4pVM8ty6A-Nf"
   },
   "source": [
    "### Transforms"
   ]
  },
  {
   "cell_type": "code",
   "execution_count": null,
   "metadata": {
    "id": "RR0i7TC5A-Nf"
   },
   "outputs": [],
   "source": [
    "pre_trained_mean, pre_trained_std = [0.485, 0.456, 0.406], [0.229, 0.224, 0.225]\n",
    "\n",
    "train_transform = transforms.Compose([\n",
    "    transforms.Resize((IMG_SIZE, IMG_SIZE)),\n",
    "    transforms.RandomHorizontalFlip(),\n",
    "    transforms.RandomAffine(degrees=40, scale=(.9, 1.1), shear=0),\n",
    "    transforms.RandomPerspective(distortion_scale=0.2),\n",
    "    transforms.ColorJitter(brightness=0.5, contrast=0.5, saturation=0.5),\n",
    "    transforms.ToTensor(),\n",
    "    transforms.RandomErasing(scale=(0.02, 0.16), ratio=(0.3, 1.6)),\n",
    "    transforms.Normalize(mean=pre_trained_mean, std=pre_trained_std)\n",
    "])\n",
    "\n",
    "val_tranform = transforms.Compose([\n",
    "    transforms.Resize((IMG_SIZE, IMG_SIZE)),\n",
    "    transforms.ToTensor(),\n",
    "    transforms.Normalize(mean=pre_trained_mean, std=pre_trained_std)\n",
    "])"
   ]
  },
  {
   "cell_type": "markdown",
   "metadata": {
    "id": "f8iG1vBAA-Ni"
   },
   "source": [
    "### Dataset"
   ]
  },
  {
   "cell_type": "code",
   "execution_count": null,
   "metadata": {
    "id": "_YB92wiiA-Nj"
   },
   "outputs": [],
   "source": [
    "class FFPPDataset(Dataset):\n",
    "    def __init__(self, df_faces, faces_dir=FACES_DST, transform=None):\n",
    "        super().__init__()\n",
    "        self.faces_dir = Path(faces_dir)\n",
    "        self.data, self.targets = df_faces['path'], df_faces['label']\n",
    "        self.transform = transform\n",
    "        \n",
    "    def __getitem__(self, index):\n",
    "        img_path, target = self.data[index], self.targets[index]\n",
    "        target = np.array([target,]).astype(np.float32)\n",
    "        # read the image\n",
    "        img = Image.open(str(self.faces_dir.joinpath(img_path)))\n",
    "        \n",
    "        if self.transform is not None:\n",
    "            img = self.transform(img)\n",
    "        return img, target\n",
    "    \n",
    "    def __len__(self):\n",
    "        return len(self.data)"
   ]
  },
  {
   "cell_type": "code",
   "execution_count": null,
   "metadata": {
    "colab": {
     "base_uri": "https://localhost:8080/"
    },
    "id": "rxBdI_boA-Nm",
    "outputId": "bdfa5dc5-5fb8-40d2-e0a3-57e156c486cc"
   },
   "outputs": [
    {
     "name": "stderr",
     "output_type": "stream",
     "text": [
      "/usr/local/lib/python3.8/dist-packages/torch/utils/data/dataloader.py:554: UserWarning: This DataLoader will create 24 worker processes in total. Our suggested max number of worker in current system is 2, which is smaller than what this DataLoader is going to create. Please be aware that excessive worker creation might get DataLoader running slow or even freeze, lower the worker number to avoid potential slowness/freeze if necessary.\n",
      "  warnings.warn(_create_warning_msg(\n"
     ]
    }
   ],
   "source": [
    "train_dataset = FFPPDataset(df_train, transform=train_transform)\n",
    "train_loader = DataLoader(train_dataset, batch_size=BATCH_SIZE, shuffle=True, \n",
    "                          num_workers=24, pin_memory=True)\n",
    "\n",
    "valid_dataset = FFPPDataset(df_val, transform=val_tranform)\n",
    "val_loader = DataLoader(valid_dataset, batch_size=BATCH_SIZE, num_workers=24, \n",
    "                        pin_memory=True)\n",
    "\n",
    "test_dataset = FFPPDataset(df_test, transform=val_tranform)\n",
    "test_loader = DataLoader(test_dataset, batch_size=BATCH_SIZE, num_workers=24, \n",
    "                         pin_memory=True)"
   ]
  },
  {
   "cell_type": "markdown",
   "metadata": {
    "id": "Y7swTRXvMbld"
   },
   "source": [
    "## Entraîner le réseau EfficientNet\n",
    "\n",
    "Modèle pré-entraîner nommé : efficientnet-b4\n",
    "\n",
    "\n"
   ]
  },
  {
   "cell_type": "code",
   "execution_count": null,
   "metadata": {
    "id": "BVLsLQ3N1Ha5"
   },
   "outputs": [],
   "source": [
    "# Training configuration\n",
    "# number of epochs to train for\n",
    "num_epochs = 10\n",
    "\n",
    "# learning rate\n",
    "learning_rate = 1e-4\n",
    "\n",
    "# loss_function\n",
    "criterion = nn.BCEWithLogitsLoss()"
   ]
  },
  {
   "cell_type": "code",
   "execution_count": null,
   "metadata": {
    "id": "8NTgHso71zkG"
   },
   "outputs": [],
   "source": [
    "def train(net, model_name):\n",
    "  model_path = os.path.join(base_path, \n",
    "                            f'models/{model_name}' + '/best_epoch_{epoch}.ckpt')\n",
    "  Path(model_path).parent.mkdir(parents=True, exist_ok=True)\n",
    "  logs_file = os.path.join(base_path, f'logs/{model_name}/log.tsv')\n",
    "  Path(logs_file).parent.mkdir(parents=True, exist_ok=True)\n",
    "\n",
    "  callbacks = [\n",
    "    # Save the weights in a new file when the current model is better than all \n",
    "    # previous models.\n",
    "    ModelCheckpoint(model_path, monitor='val_bin_acc', mode='max', \n",
    "                    save_best_only=True, restore_best=True, verbose=True, \n",
    "                    temporary_filename=model_name + '_best_epoch.ckpt.tmp'),\n",
    "    \n",
    "    # Save the losses and accuracies for each epoch in a TSV.\n",
    "    CSVLogger(logs_file, separator='\\t'),\n",
    "  ]\n",
    "\n",
    "  params = (p for p in net.parameters() if p.requires_grad)\n",
    "  optimizer = optim.Adam(params, lr=learning_rate, weight_decay=0.000001)\n",
    "\n",
    "  model = Model(net, optimizer, criterion, batch_metrics=['bin_acc'])\n",
    "  model.to(device)\n",
    "\n",
    "  if Path(logs_file).exists():\n",
    "    logs = pd.read_csv(logs_file, sep='\\t')\n",
    "    epochs = list(logs['epoch'])\n",
    "    if len(epochs) != 0:\n",
    "      best_epoch_idx = logs['val_bin_acc'].idxmax()\n",
    "      best_epoch = int(logs.loc[best_epoch_idx]['epoch'])\n",
    "      model.load_weights(model_path.format(epoch=best_epoch))\n",
    "      if num_epochs not in epochs:\n",
    "        # Train\n",
    "        model.fit_generator(train_loader, val_loader, epochs=num_epochs, \n",
    "                            initial_epoch=epochs[-1], callbacks=callbacks)\n",
    "    else:\n",
    "      model.fit_generator(train_loader, val_loader, epochs=num_epochs, \n",
    "                          callbacks=callbacks)\n",
    "  else:\n",
    "    model.fit_generator(train_loader, val_loader, epochs=num_epochs, \n",
    "                        callbacks=callbacks)\n",
    "\n",
    "  logs = pd.read_csv(logs_file, sep='\\t')\n",
    "\n",
    "  best_epoch_idx = logs['val_bin_acc'].idxmax()\n",
    "  best_epoch = int(logs.loc[best_epoch_idx]['epoch'])\n",
    "  print(\"Best epoch: %d\" % best_epoch)\n",
    "\n",
    "  metrics = ['loss', 'val_loss']\n",
    "  plt.plot(logs['epoch'], logs[metrics])\n",
    "  plt.legend(metrics)\n",
    "  plt.title('Loss')\n",
    "  plt.show()\n",
    "\n",
    "  metrics = ['bin_acc', 'val_bin_acc']\n",
    "  plt.plot(logs['epoch'], logs[metrics])\n",
    "  plt.legend(metrics)\n",
    "  plt.title('Accuracy')\n",
    "  plt.show()\n",
    "\n",
    "  return model"
   ]
  },
  {
   "cell_type": "code",
   "execution_count": null,
   "metadata": {
    "id": "nKbzkBCb-vQ3"
   },
   "outputs": [],
   "source": [
    "def test(model, test_loader):\n",
    "  test_loss, test_acc = model.evaluate_generator(test_loader)\n",
    "  print('Test:\\n\\tLoss: {}\\n\\tAccuracy: {}'.format(test_loss, test_acc))"
   ]
  },
  {
   "cell_type": "markdown",
   "metadata": {
    "id": "Oc8EM1TS1FyQ"
   },
   "source": [
    "### Freezant tous les paramètres de convolution"
   ]
  },
  {
   "cell_type": "code",
   "execution_count": null,
   "metadata": {
    "colab": {
     "base_uri": "https://localhost:8080/",
     "height": 704
    },
    "id": "gkzbm95FFODY",
    "outputId": "fe041d14-254b-4851-f4fa-c840e3facf17"
   },
   "outputs": [
    {
     "name": "stdout",
     "output_type": "stream",
     "text": [
      "Loaded pretrained weights for efficientnet-b4\n",
      "Best epoch: 10\n"
     ]
    },
    {
     "data": {
      "image/png": "[encoded data removed]",
      "text/plain": [
       "<Figure size 432x288 with 1 Axes>"
      ]
     },
     "metadata": {
      "needs_background": "light"
     },
     "output_type": "display_data"
    },
    {
     "data": {
      "image/png": "[encoded data removed]",
      "text/plain": [
       "<Figure size 432x288 with 1 Axes>"
      ]
     },
     "metadata": {
      "needs_background": "light"
     },
     "output_type": "display_data"
    },
    {
     "name": "stderr",
     "output_type": "stream",
     "text": [
      "/usr/local/lib/python3.8/dist-packages/torch/utils/data/dataloader.py:554: UserWarning: This DataLoader will create 24 worker processes in total. Our suggested max number of worker in current system is 2, which is smaller than what this DataLoader is going to create. Please be aware that excessive worker creation might get DataLoader running slow or even freeze, lower the worker number to avoid potential slowness/freeze if necessary.\n",
      "  warnings.warn(_create_warning_msg(\n"
     ]
    },
    {
     "name": "stdout",
     "output_type": "stream",
     "text": [
      "Test steps: 1 5.90s test_loss: 0.752323 test_bin_acc: 43.820225                               \n",
      "Test:\n",
      "\tLoss: 0.7523230910301208\n",
      "\tAccuracy: 43.82022476196289\n"
     ]
    }
   ],
   "source": [
    "efficientnet_a = EfficientNet.from_pretrained('efficientnet-b4')\n",
    "efficientnet_a._fc = nn.Linear(efficientnet_a._conv_head.out_channels, 1)\n",
    "\n",
    "for name, param in efficientnet_a.named_parameters():\n",
    "  if not name.startswith('_fc'):\n",
    "    param.requires_grad = False\n",
    "\n",
    "model_a = train(efficientnet_a, 'efficientnet_a')\n",
    "test(model_a, test_loader)"
   ]
  },
  {
   "cell_type": "markdown",
   "metadata": {
    "id": "T5_FQ-nrQAYz"
   },
   "source": [
    "### En réentraînant quelques blocs\n",
    "\n",
    "Réentraîner les 8 derniers blocs avec les deux derniers couches (couche de convolution et classificateur)"
   ]
  },
  {
   "cell_type": "code",
   "execution_count": null,
   "metadata": {
    "colab": {
     "base_uri": "https://localhost:8080/",
     "height": 704
    },
    "id": "mGvhRsFfULPj",
    "outputId": "77565c8d-c593-48f9-a113-55c65fc3a209"
   },
   "outputs": [
    {
     "name": "stdout",
     "output_type": "stream",
     "text": [
      "Loaded pretrained weights for efficientnet-b4\n",
      "Best epoch: 10\n"
     ]
    },
    {
     "data": {
      "image/png": "[encoded data removed]",
      "text/plain": [
       "<Figure size 432x288 with 1 Axes>"
      ]
     },
     "metadata": {
      "needs_background": "light"
     },
     "output_type": "display_data"
    },
    {
     "data": {
      "image/png": "[encoded data removed]",
      "text/plain": [
       "<Figure size 432x288 with 1 Axes>"
      ]
     },
     "metadata": {
      "needs_background": "light"
     },
     "output_type": "display_data"
    },
    {
     "name": "stderr",
     "output_type": "stream",
     "text": [
      "/usr/local/lib/python3.8/dist-packages/torch/utils/data/dataloader.py:554: UserWarning: This DataLoader will create 24 worker processes in total. Our suggested max number of worker in current system is 2, which is smaller than what this DataLoader is going to create. Please be aware that excessive worker creation might get DataLoader running slow or even freeze, lower the worker number to avoid potential slowness/freeze if necessary.\n",
      "  warnings.warn(_create_warning_msg(\n"
     ]
    },
    {
     "name": "stdout",
     "output_type": "stream",
     "text": [
      "Test steps: 1 3.43s test_loss: 0.502483 test_bin_acc: 79.775276                               \n",
      "Test:\n",
      "\tLoss: 0.5024827718734741\n",
      "\tAccuracy: 79.77527618408203\n"
     ]
    }
   ],
   "source": [
    "efficientnet_b = EfficientNet.from_pretrained('efficientnet-b4')\n",
    "efficientnet_b._fc = nn.Linear(efficientnet_b._conv_head.out_channels, 1)\n",
    "\n",
    "names = [name for name, _ in list(efficientnet_b.named_parameters())[-109:]]\n",
    "for name, param in efficientnet_b.named_parameters():\n",
    "  if name not in names:\n",
    "    param.requires_grad = False\n",
    "\n",
    "model_b = train(efficientnet_b, 'efficientnet_b')\n",
    "test(model_b, test_loader)"
   ]
  },
  {
   "cell_type": "markdown",
   "metadata": {
    "id": "Tq3kPtqzmEsJ"
   },
   "source": [
    "Nous allons réentraîner les 16 derniers bloques avec les deux derniers couches (une couche de convolution et le classificateur)"
   ]
  },
  {
   "cell_type": "code",
   "execution_count": null,
   "metadata": {
    "colab": {
     "base_uri": "https://localhost:8080/",
     "height": 704
    },
    "id": "e2phbJ577fhQ",
    "outputId": "d2849d5a-c6fd-470e-a9c3-e2e14cefce8e"
   },
   "outputs": [
    {
     "name": "stdout",
     "output_type": "stream",
     "text": [
      "Loaded pretrained weights for efficientnet-b4\n",
      "Best epoch: 8\n"
     ]
    },
    {
     "data": {
      "image/png": "[encoded data removed]",
      "text/plain": [
       "<Figure size 432x288 with 1 Axes>"
      ]
     },
     "metadata": {
      "needs_background": "light"
     },
     "output_type": "display_data"
    },
    {
     "data": {
      "image/png": "[encoded data removed]",
      "text/plain": [
       "<Figure size 432x288 with 1 Axes>"
      ]
     },
     "metadata": {
      "needs_background": "light"
     },
     "output_type": "display_data"
    },
    {
     "name": "stderr",
     "output_type": "stream",
     "text": [
      "/usr/local/lib/python3.8/dist-packages/torch/utils/data/dataloader.py:554: UserWarning: This DataLoader will create 24 worker processes in total. Our suggested max number of worker in current system is 2, which is smaller than what this DataLoader is going to create. Please be aware that excessive worker creation might get DataLoader running slow or even freeze, lower the worker number to avoid potential slowness/freeze if necessary.\n",
      "  warnings.warn(_create_warning_msg(\n"
     ]
    },
    {
     "name": "stdout",
     "output_type": "stream",
     "text": [
      "Test steps: 1 3.52s test_loss: 0.118408 test_bin_acc: 95.505615                               \n",
      "Test:\n",
      "\tLoss: 0.11840839684009552\n",
      "\tAccuracy: 95.505615234375\n"
     ]
    }
   ],
   "source": [
    "efficientnet_c = EfficientNet.from_pretrained('efficientnet-b4')\n",
    "efficientnet_c._fc = nn.Linear(efficientnet_c._conv_head.out_channels, 1)\n",
    "\n",
    "names = [name for name, _ in list(efficientnet_c.named_parameters())[-213:]]\n",
    "for name, param in efficientnet_c.named_parameters():\n",
    "  if name not in names:\n",
    "    param.requires_grad = False\n",
    "\n",
    "model_c = train(efficientnet_c, 'efficientnet_c')\n",
    "test(model_c, test_loader)"
   ]
  },
  {
   "cell_type": "markdown",
   "metadata": {
    "id": "_tQJWTsnhWtk"
   },
   "source": [
    "## Mécanisme d'attention\n",
    "\n",
    "Ajouter un mécanisme d'attention visuelle : Spatial Transformer Network (Applique une transformation spatiale sur les\n",
    "feature maps, lors du forward pass) "
   ]
  },
  {
   "cell_type": "code",
   "execution_count": null,
   "metadata": {
    "id": "WhHp-pz8qX1X"
   },
   "outputs": [],
   "source": [
    "class EfficientNetAtt(EfficientNet):\n",
    "    def __init__(self, blocks_args=None, global_params=None):\n",
    "        super().__init__(blocks_args, global_params)\n",
    "        \n",
    "    def init_spatial_transformer(self):\n",
    "        self.block_idx = 20\n",
    "        \n",
    "        # Spatial transformer localization-network\n",
    "        self.localization = nn.Sequential(\n",
    "            nn.Conv2d(160, 160, kernel_size=5),\n",
    "            nn.MaxPool2d(2, stride=2),\n",
    "            nn.ReLU(True),\n",
    "            nn.Conv2d(160, 80, kernel_size=3),\n",
    "            nn.MaxPool2d(2, stride=2),\n",
    "            nn.ReLU(True)\n",
    "        )\n",
    "        \n",
    "        # Regressor for the 3 * 2 affine matrix\n",
    "        self.fc_loc = nn.Sequential(\n",
    "            nn.Linear(80 * 1 * 1, 32),\n",
    "            nn.ReLU(True),\n",
    "            nn.Linear(32, 3 * 2)\n",
    "        )\n",
    "        \n",
    "        # Initialize the weights/bias with identity transformation\n",
    "        self.fc_loc[2].weight.data.zero_()\n",
    "        self.fc_loc[2].bias.data.copy_(torch.tensor([1, 0, 0, 0, 1, 0], \n",
    "                                                    dtype=torch.float))\n",
    "    \n",
    "    def stn(self, inputs):\n",
    "        inputs = inputs.clone()\n",
    "        xs = self.localization(inputs)\n",
    "        xs = xs.view(-1, 80 * 1 * 1)\n",
    "        theta = self.fc_loc(xs)\n",
    "        theta = theta.view(-1, 2, 3)\n",
    "\n",
    "        grid = F.affine_grid(theta, inputs.size(), align_corners=False)\n",
    "        x = F.grid_sample(inputs, grid, align_corners=False)\n",
    "\n",
    "        return x\n",
    "    \n",
    "    def extract_features(self, inputs):\n",
    "        \"\"\" Returns output of the final convolution layer \"\"\"\n",
    "\n",
    "        # Stem\n",
    "        x = self._swish(self._bn0(self._conv_stem(inputs)))\n",
    "\n",
    "        # Blocks\n",
    "        for idx, block in enumerate(self._blocks):\n",
    "            drop_connect_rate = self._global_params.drop_connect_rate\n",
    "            if drop_connect_rate:\n",
    "                drop_connect_rate *= float(idx) / len(self._blocks)\n",
    "            x = block(x, drop_connect_rate=drop_connect_rate)\n",
    "            if idx == self.block_idx:\n",
    "                x *= self.stn(x)\n",
    "\n",
    "        # Head\n",
    "        x = self._swish(self._bn1(self._conv_head(x)))\n",
    "\n",
    "        return x"
   ]
  },
  {
   "cell_type": "code",
   "execution_count": null,
   "metadata": {
    "colab": {
     "base_uri": "https://localhost:8080/",
     "height": 704
    },
    "id": "uCefQSQCiKKa",
    "outputId": "ad160860-8e5c-4086-e959-99e438e9ce67"
   },
   "outputs": [
    {
     "name": "stdout",
     "output_type": "stream",
     "text": [
      "Loaded pretrained weights for efficientnet-b4\n",
      "Best epoch: 10\n"
     ]
    },
    {
     "data": {
      "image/png": "[encoded data removed]",
      "text/plain": [
       "<Figure size 432x288 with 1 Axes>"
      ]
     },
     "metadata": {
      "needs_background": "light"
     },
     "output_type": "display_data"
    },
    {
     "data": {
      "image/png": "[encoded data removed]",
      "text/plain": [
       "<Figure size 432x288 with 1 Axes>"
      ]
     },
     "metadata": {
      "needs_background": "light"
     },
     "output_type": "display_data"
    },
    {
     "name": "stderr",
     "output_type": "stream",
     "text": [
      "/usr/local/lib/python3.8/dist-packages/torch/utils/data/dataloader.py:554: UserWarning: This DataLoader will create 24 worker processes in total. Our suggested max number of worker in current system is 2, which is smaller than what this DataLoader is going to create. Please be aware that excessive worker creation might get DataLoader running slow or even freeze, lower the worker number to avoid potential slowness/freeze if necessary.\n",
      "  warnings.warn(_create_warning_msg(\n"
     ]
    },
    {
     "name": "stdout",
     "output_type": "stream",
     "text": [
      "Test steps: 1 4.01s test_loss: 0.488631 test_bin_acc: 70.786514                               \n",
      "Test:\n",
      "\tLoss: 0.4886310398578644\n",
      "\tAccuracy: 70.78651428222656\n"
     ]
    }
   ],
   "source": [
    "efficientnet_d = EfficientNetAtt.from_pretrained('efficientnet-b4')\n",
    "efficientnet_d._fc = nn.Linear(efficientnet_d._conv_head.out_channels, 1)\n",
    "efficientnet_d.init_spatial_transformer()\n",
    "\n",
    "names = [name for name, _ in list(efficientnet_d.named_parameters())[-221:]]\n",
    "for name, param in efficientnet_d.named_parameters():\n",
    "  if name not in names:\n",
    "    param.requires_grad = False\n",
    "\n",
    "model_d = train(efficientnet_d, 'efficientnet_d')\n",
    "test(model_d, test_loader)"
   ]
  }
 ],
 "metadata": {
  "accelerator": "GPU",
  "colab": {
   "machine_shape": "hm",
   "provenance": []
  },
  "kernelspec": {
   "display_name": "Python 3",
   "language": "python",
   "name": "python3"
  },
  "language_info": {
   "codemirror_mode": {
    "name": "ipython",
    "version": 3
   },
   "file_extension": ".py",
   "mimetype": "text/x-python",
   "name": "python",
   "nbconvert_exporter": "python",
   "pygments_lexer": "ipython3",
   "version": "3.7.4"
  },
  "widgets": {
   "application/vnd.jupyter.widget-state+json": {
    "03d648803dcc4b31aa58115ea9bfc0f1": {
     "model_module": "@jupyter-widgets/base",
     "model_module_version": "1.2.0",
     "model_name": "LayoutModel",
     "state": {
      "_model_module": "@jupyter-widgets/base",
      "_model_module_version": "1.2.0",
      "_model_name": "LayoutModel",
      "_view_count": null,
      "_view_module": "@jupyter-widgets/base",
      "_view_module_version": "1.2.0",
      "_view_name": "LayoutView",
      "align_content": null,
      "align_items": null,
      "align_self": null,
      "border": null,
      "bottom": null,
      "display": null,
      "flex": null,
      "flex_flow": null,
      "grid_area": null,
      "grid_auto_columns": null,
      "grid_auto_flow": null,
      "grid_auto_rows": null,
      "grid_column": null,
      "grid_gap": null,
      "grid_row": null,
      "grid_template_areas": null,
      "grid_template_columns": null,
      "grid_template_rows": null,
      "height": null,
      "justify_content": null,
      "justify_items": null,
      "left": null,
      "margin": null,
      "max_height": null,
      "max_width": null,
      "min_height": null,
      "min_width": null,
      "object_fit": null,
      "object_position": null,
      "order": null,
      "overflow": null,
      "overflow_x": null,
      "overflow_y": null,
      "padding": null,
      "right": null,
      "top": null,
      "visibility": null,
      "width": null
     }
    },
    "04e6ecb5472248b58cf12a0708dfc762": {
     "model_module": "@jupyter-widgets/controls",
     "model_module_version": "1.5.0",
     "model_name": "FloatProgressModel",
     "state": {
      "_dom_classes": [],
      "_model_module": "@jupyter-widgets/controls",
      "_model_module_version": "1.5.0",
      "_model_name": "FloatProgressModel",
      "_view_count": null,
      "_view_module": "@jupyter-widgets/controls",
      "_view_module_version": "1.5.0",
      "_view_name": "ProgressView",
      "bar_style": "success",
      "description": "",
      "description_tooltip": null,
      "layout": "IPY_MODEL_83b79538e8e44cc0b47c2e9e791633f9",
      "max": 11,
      "min": 0,
      "orientation": "horizontal",
      "style": "IPY_MODEL_6e8e5ad77ad8442f80c25d1b8ce1d968",
      "value": 11
     }
    },
    "0c540988e94f42f5858f4d4fbb836530": {
     "model_module": "@jupyter-widgets/base",
     "model_module_version": "1.2.0",
     "model_name": "LayoutModel",
     "state": {
      "_model_module": "@jupyter-widgets/base",
      "_model_module_version": "1.2.0",
      "_model_name": "LayoutModel",
      "_view_count": null,
      "_view_module": "@jupyter-widgets/base",
      "_view_module_version": "1.2.0",
      "_view_name": "LayoutView",
      "align_content": null,
      "align_items": null,
      "align_self": null,
      "border": null,
      "bottom": null,
      "display": null,
      "flex": null,
      "flex_flow": null,
      "grid_area": null,
      "grid_auto_columns": null,
      "grid_auto_flow": null,
      "grid_auto_rows": null,
      "grid_column": null,
      "grid_gap": null,
      "grid_row": null,
      "grid_template_areas": null,
      "grid_template_columns": null,
      "grid_template_rows": null,
      "height": null,
      "justify_content": null,
      "justify_items": null,
      "left": null,
      "margin": null,
      "max_height": null,
      "max_width": null,
      "min_height": null,
      "min_width": null,
      "object_fit": null,
      "object_position": null,
      "order": null,
      "overflow": null,
      "overflow_x": null,
      "overflow_y": null,
      "padding": null,
      "right": null,
      "top": null,
      "visibility": null,
      "width": null
     }
    },
    "1ade3d79b2104a938cf88ef67c97e4e7": {
     "model_module": "@jupyter-widgets/controls",
     "model_module_version": "1.5.0",
     "model_name": "FloatProgressModel",
     "state": {
      "_dom_classes": [],
      "_model_module": "@jupyter-widgets/controls",
      "_model_module_version": "1.5.0",
      "_model_name": "FloatProgressModel",
      "_view_count": null,
      "_view_module": "@jupyter-widgets/controls",
      "_view_module_version": "1.5.0",
      "_view_name": "ProgressView",
      "bar_style": "success",
      "description": "",
      "description_tooltip": null,
      "layout": "IPY_MODEL_6899fa87e0de4d4295917f291552ebea",
      "max": 11,
      "min": 0,
      "orientation": "horizontal",
      "style": "IPY_MODEL_9f9269f2d4fb459eb7f8d86d158ae24b",
      "value": 11
     }
    },
    "205927d0b97b4954bf28c752aec55631": {
     "model_module": "@jupyter-widgets/controls",
     "model_module_version": "1.5.0",
     "model_name": "HBoxModel",
     "state": {
      "_dom_classes": [],
      "_model_module": "@jupyter-widgets/controls",
      "_model_module_version": "1.5.0",
      "_model_name": "HBoxModel",
      "_view_count": null,
      "_view_module": "@jupyter-widgets/controls",
      "_view_module_version": "1.5.0",
      "_view_name": "HBoxView",
      "box_style": "",
      "children": [
       "IPY_MODEL_ef925a82d36442dcb74cd4162e879f1b",
       "IPY_MODEL_04e6ecb5472248b58cf12a0708dfc762",
       "IPY_MODEL_27e8317cab9b4b8baa385c756c34f0f7"
      ],
      "layout": "IPY_MODEL_4785229d586d48bab06cae05bc7a093e"
     }
    },
    "27e8317cab9b4b8baa385c756c34f0f7": {
     "model_module": "@jupyter-widgets/controls",
     "model_module_version": "1.5.0",
     "model_name": "HTMLModel",
     "state": {
      "_dom_classes": [],
      "_model_module": "@jupyter-widgets/controls",
      "_model_module_version": "1.5.0",
      "_model_name": "HTMLModel",
      "_view_count": null,
      "_view_module": "@jupyter-widgets/controls",
      "_view_module_version": "1.5.0",
      "_view_name": "HTMLView",
      "description": "",
      "description_tooltip": null,
      "layout": "IPY_MODEL_82081d86b25b4f3787ce6d09a589a6b1",
      "placeholder": "​",
      "style": "IPY_MODEL_dd74382c0c0242bead97220824a0ed16",
      "value": " 11/11 [00:00&lt;00:00, 220.00it/s]"
     }
    },
    "31e014236bc64ef6aa1d6fb5a5ad0742": {
     "model_module": "@jupyter-widgets/base",
     "model_module_version": "1.2.0",
     "model_name": "LayoutModel",
     "state": {
      "_model_module": "@jupyter-widgets/base",
      "_model_module_version": "1.2.0",
      "_model_name": "LayoutModel",
      "_view_count": null,
      "_view_module": "@jupyter-widgets/base",
      "_view_module_version": "1.2.0",
      "_view_name": "LayoutView",
      "align_content": null,
      "align_items": null,
      "align_self": null,
      "border": null,
      "bottom": null,
      "display": null,
      "flex": null,
      "flex_flow": null,
      "grid_area": null,
      "grid_auto_columns": null,
      "grid_auto_flow": null,
      "grid_auto_rows": null,
      "grid_column": null,
      "grid_gap": null,
      "grid_row": null,
      "grid_template_areas": null,
      "grid_template_columns": null,
      "grid_template_rows": null,
      "height": null,
      "justify_content": null,
      "justify_items": null,
      "left": null,
      "margin": null,
      "max_height": null,
      "max_width": null,
      "min_height": null,
      "min_width": null,
      "object_fit": null,
      "object_position": null,
      "order": null,
      "overflow": null,
      "overflow_x": null,
      "overflow_y": null,
      "padding": null,
      "right": null,
      "top": null,
      "visibility": null,
      "width": null
     }
    },
    "4785229d586d48bab06cae05bc7a093e": {
     "model_module": "@jupyter-widgets/base",
     "model_module_version": "1.2.0",
     "model_name": "LayoutModel",
     "state": {
      "_model_module": "@jupyter-widgets/base",
      "_model_module_version": "1.2.0",
      "_model_name": "LayoutModel",
      "_view_count": null,
      "_view_module": "@jupyter-widgets/base",
      "_view_module_version": "1.2.0",
      "_view_name": "LayoutView",
      "align_content": null,
      "align_items": null,
      "align_self": null,
      "border": null,
      "bottom": null,
      "display": null,
      "flex": null,
      "flex_flow": null,
      "grid_area": null,
      "grid_auto_columns": null,
      "grid_auto_flow": null,
      "grid_auto_rows": null,
      "grid_column": null,
      "grid_gap": null,
      "grid_row": null,
      "grid_template_areas": null,
      "grid_template_columns": null,
      "grid_template_rows": null,
      "height": null,
      "justify_content": null,
      "justify_items": null,
      "left": null,
      "margin": null,
      "max_height": null,
      "max_width": null,
      "min_height": null,
      "min_width": null,
      "object_fit": null,
      "object_position": null,
      "order": null,
      "overflow": null,
      "overflow_x": null,
      "overflow_y": null,
      "padding": null,
      "right": null,
      "top": null,
      "visibility": null,
      "width": null
     }
    },
    "48c716e3f08d4a0b86e35bce7a67c22a": {
     "model_module": "@jupyter-widgets/controls",
     "model_module_version": "1.5.0",
     "model_name": "HTMLModel",
     "state": {
      "_dom_classes": [],
      "_model_module": "@jupyter-widgets/controls",
      "_model_module_version": "1.5.0",
      "_model_name": "HTMLModel",
      "_view_count": null,
      "_view_module": "@jupyter-widgets/controls",
      "_view_module_version": "1.5.0",
      "_view_name": "HTMLView",
      "description": "",
      "description_tooltip": null,
      "layout": "IPY_MODEL_03d648803dcc4b31aa58115ea9bfc0f1",
      "placeholder": "​",
      "style": "IPY_MODEL_a3f2a6dce9df46b4af4fd8dad52e1c98",
      "value": "100%"
     }
    },
    "6899fa87e0de4d4295917f291552ebea": {
     "model_module": "@jupyter-widgets/base",
     "model_module_version": "1.2.0",
     "model_name": "LayoutModel",
     "state": {
      "_model_module": "@jupyter-widgets/base",
      "_model_module_version": "1.2.0",
      "_model_name": "LayoutModel",
      "_view_count": null,
      "_view_module": "@jupyter-widgets/base",
      "_view_module_version": "1.2.0",
      "_view_name": "LayoutView",
      "align_content": null,
      "align_items": null,
      "align_self": null,
      "border": null,
      "bottom": null,
      "display": null,
      "flex": null,
      "flex_flow": null,
      "grid_area": null,
      "grid_auto_columns": null,
      "grid_auto_flow": null,
      "grid_auto_rows": null,
      "grid_column": null,
      "grid_gap": null,
      "grid_row": null,
      "grid_template_areas": null,
      "grid_template_columns": null,
      "grid_template_rows": null,
      "height": null,
      "justify_content": null,
      "justify_items": null,
      "left": null,
      "margin": null,
      "max_height": null,
      "max_width": null,
      "min_height": null,
      "min_width": null,
      "object_fit": null,
      "object_position": null,
      "order": null,
      "overflow": null,
      "overflow_x": null,
      "overflow_y": null,
      "padding": null,
      "right": null,
      "top": null,
      "visibility": null,
      "width": null
     }
    },
    "6e8e5ad77ad8442f80c25d1b8ce1d968": {
     "model_module": "@jupyter-widgets/controls",
     "model_module_version": "1.5.0",
     "model_name": "ProgressStyleModel",
     "state": {
      "_model_module": "@jupyter-widgets/controls",
      "_model_module_version": "1.5.0",
      "_model_name": "ProgressStyleModel",
      "_view_count": null,
      "_view_module": "@jupyter-widgets/base",
      "_view_module_version": "1.2.0",
      "_view_name": "StyleView",
      "bar_color": null,
      "description_width": ""
     }
    },
    "82081d86b25b4f3787ce6d09a589a6b1": {
     "model_module": "@jupyter-widgets/base",
     "model_module_version": "1.2.0",
     "model_name": "LayoutModel",
     "state": {
      "_model_module": "@jupyter-widgets/base",
      "_model_module_version": "1.2.0",
      "_model_name": "LayoutModel",
      "_view_count": null,
      "_view_module": "@jupyter-widgets/base",
      "_view_module_version": "1.2.0",
      "_view_name": "LayoutView",
      "align_content": null,
      "align_items": null,
      "align_self": null,
      "border": null,
      "bottom": null,
      "display": null,
      "flex": null,
      "flex_flow": null,
      "grid_area": null,
      "grid_auto_columns": null,
      "grid_auto_flow": null,
      "grid_auto_rows": null,
      "grid_column": null,
      "grid_gap": null,
      "grid_row": null,
      "grid_template_areas": null,
      "grid_template_columns": null,
      "grid_template_rows": null,
      "height": null,
      "justify_content": null,
      "justify_items": null,
      "left": null,
      "margin": null,
      "max_height": null,
      "max_width": null,
      "min_height": null,
      "min_width": null,
      "object_fit": null,
      "object_position": null,
      "order": null,
      "overflow": null,
      "overflow_x": null,
      "overflow_y": null,
      "padding": null,
      "right": null,
      "top": null,
      "visibility": null,
      "width": null
     }
    },
    "83b79538e8e44cc0b47c2e9e791633f9": {
     "model_module": "@jupyter-widgets/base",
     "model_module_version": "1.2.0",
     "model_name": "LayoutModel",
     "state": {
      "_model_module": "@jupyter-widgets/base",
      "_model_module_version": "1.2.0",
      "_model_name": "LayoutModel",
      "_view_count": null,
      "_view_module": "@jupyter-widgets/base",
      "_view_module_version": "1.2.0",
      "_view_name": "LayoutView",
      "align_content": null,
      "align_items": null,
      "align_self": null,
      "border": null,
      "bottom": null,
      "display": null,
      "flex": null,
      "flex_flow": null,
      "grid_area": null,
      "grid_auto_columns": null,
      "grid_auto_flow": null,
      "grid_auto_rows": null,
      "grid_column": null,
      "grid_gap": null,
      "grid_row": null,
      "grid_template_areas": null,
      "grid_template_columns": null,
      "grid_template_rows": null,
      "height": null,
      "justify_content": null,
      "justify_items": null,
      "left": null,
      "margin": null,
      "max_height": null,
      "max_width": null,
      "min_height": null,
      "min_width": null,
      "object_fit": null,
      "object_position": null,
      "order": null,
      "overflow": null,
      "overflow_x": null,
      "overflow_y": null,
      "padding": null,
      "right": null,
      "top": null,
      "visibility": null,
      "width": null
     }
    },
    "88d52087747d49ad8e41640ff780b6db": {
     "model_module": "@jupyter-widgets/controls",
     "model_module_version": "1.5.0",
     "model_name": "DescriptionStyleModel",
     "state": {
      "_model_module": "@jupyter-widgets/controls",
      "_model_module_version": "1.5.0",
      "_model_name": "DescriptionStyleModel",
      "_view_count": null,
      "_view_module": "@jupyter-widgets/base",
      "_view_module_version": "1.2.0",
      "_view_name": "StyleView",
      "description_width": ""
     }
    },
    "9c28a932c1a14db3bf90fc8f9a24662a": {
     "model_module": "@jupyter-widgets/controls",
     "model_module_version": "1.5.0",
     "model_name": "HBoxModel",
     "state": {
      "_dom_classes": [],
      "_model_module": "@jupyter-widgets/controls",
      "_model_module_version": "1.5.0",
      "_model_name": "HBoxModel",
      "_view_count": null,
      "_view_module": "@jupyter-widgets/controls",
      "_view_module_version": "1.5.0",
      "_view_name": "HBoxView",
      "box_style": "",
      "children": [
       "IPY_MODEL_48c716e3f08d4a0b86e35bce7a67c22a",
       "IPY_MODEL_1ade3d79b2104a938cf88ef67c97e4e7",
       "IPY_MODEL_f72c18bfe6ba4c79b7c3819bed071ce7"
      ],
      "layout": "IPY_MODEL_0c540988e94f42f5858f4d4fbb836530"
     }
    },
    "9f9269f2d4fb459eb7f8d86d158ae24b": {
     "model_module": "@jupyter-widgets/controls",
     "model_module_version": "1.5.0",
     "model_name": "ProgressStyleModel",
     "state": {
      "_model_module": "@jupyter-widgets/controls",
      "_model_module_version": "1.5.0",
      "_model_name": "ProgressStyleModel",
      "_view_count": null,
      "_view_module": "@jupyter-widgets/base",
      "_view_module_version": "1.2.0",
      "_view_name": "StyleView",
      "bar_color": null,
      "description_width": ""
     }
    },
    "a3f2a6dce9df46b4af4fd8dad52e1c98": {
     "model_module": "@jupyter-widgets/controls",
     "model_module_version": "1.5.0",
     "model_name": "DescriptionStyleModel",
     "state": {
      "_model_module": "@jupyter-widgets/controls",
      "_model_module_version": "1.5.0",
      "_model_name": "DescriptionStyleModel",
      "_view_count": null,
      "_view_module": "@jupyter-widgets/base",
      "_view_module_version": "1.2.0",
      "_view_name": "StyleView",
      "description_width": ""
     }
    },
    "af766448bf2a4f239399b6eb026bdaf2": {
     "model_module": "@jupyter-widgets/base",
     "model_module_version": "1.2.0",
     "model_name": "LayoutModel",
     "state": {
      "_model_module": "@jupyter-widgets/base",
      "_model_module_version": "1.2.0",
      "_model_name": "LayoutModel",
      "_view_count": null,
      "_view_module": "@jupyter-widgets/base",
      "_view_module_version": "1.2.0",
      "_view_name": "LayoutView",
      "align_content": null,
      "align_items": null,
      "align_self": null,
      "border": null,
      "bottom": null,
      "display": null,
      "flex": null,
      "flex_flow": null,
      "grid_area": null,
      "grid_auto_columns": null,
      "grid_auto_flow": null,
      "grid_auto_rows": null,
      "grid_column": null,
      "grid_gap": null,
      "grid_row": null,
      "grid_template_areas": null,
      "grid_template_columns": null,
      "grid_template_rows": null,
      "height": null,
      "justify_content": null,
      "justify_items": null,
      "left": null,
      "margin": null,
      "max_height": null,
      "max_width": null,
      "min_height": null,
      "min_width": null,
      "object_fit": null,
      "object_position": null,
      "order": null,
      "overflow": null,
      "overflow_x": null,
      "overflow_y": null,
      "padding": null,
      "right": null,
      "top": null,
      "visibility": null,
      "width": null
     }
    },
    "dd74382c0c0242bead97220824a0ed16": {
     "model_module": "@jupyter-widgets/controls",
     "model_module_version": "1.5.0",
     "model_name": "DescriptionStyleModel",
     "state": {
      "_model_module": "@jupyter-widgets/controls",
      "_model_module_version": "1.5.0",
      "_model_name": "DescriptionStyleModel",
      "_view_count": null,
      "_view_module": "@jupyter-widgets/base",
      "_view_module_version": "1.2.0",
      "_view_name": "StyleView",
      "description_width": ""
     }
    },
    "ef925a82d36442dcb74cd4162e879f1b": {
     "model_module": "@jupyter-widgets/controls",
     "model_module_version": "1.5.0",
     "model_name": "HTMLModel",
     "state": {
      "_dom_classes": [],
      "_model_module": "@jupyter-widgets/controls",
      "_model_module_version": "1.5.0",
      "_model_name": "HTMLModel",
      "_view_count": null,
      "_view_module": "@jupyter-widgets/controls",
      "_view_module_version": "1.5.0",
      "_view_name": "HTMLView",
      "description": "",
      "description_tooltip": null,
      "layout": "IPY_MODEL_31e014236bc64ef6aa1d6fb5a5ad0742",
      "placeholder": "​",
      "style": "IPY_MODEL_f7c9d133e4134b0aa749d271df3cfaec",
      "value": "100%"
     }
    },
    "f72c18bfe6ba4c79b7c3819bed071ce7": {
     "model_module": "@jupyter-widgets/controls",
     "model_module_version": "1.5.0",
     "model_name": "HTMLModel",
     "state": {
      "_dom_classes": [],
      "_model_module": "@jupyter-widgets/controls",
      "_model_module_version": "1.5.0",
      "_model_name": "HTMLModel",
      "_view_count": null,
      "_view_module": "@jupyter-widgets/controls",
      "_view_module_version": "1.5.0",
      "_view_name": "HTMLView",
      "description": "",
      "description_tooltip": null,
      "layout": "IPY_MODEL_af766448bf2a4f239399b6eb026bdaf2",
      "placeholder": "​",
      "style": "IPY_MODEL_88d52087747d49ad8e41640ff780b6db",
      "value": " 11/11 [00:00&lt;00:00, 218.00it/s]"
     }
    },
    "f7c9d133e4134b0aa749d271df3cfaec": {
     "model_module": "@jupyter-widgets/controls",
     "model_module_version": "1.5.0",
     "model_name": "DescriptionStyleModel",
     "state": {
      "_model_module": "@jupyter-widgets/controls",
      "_model_module_version": "1.5.0",
      "_model_name": "DescriptionStyleModel",
      "_view_count": null,
      "_view_module": "@jupyter-widgets/base",
      "_view_module_version": "1.2.0",
      "_view_name": "StyleView",
      "description_width": ""
     }
    }
   }
  }
 },
 "nbformat": 4,
 "nbformat_minor": 4
}
